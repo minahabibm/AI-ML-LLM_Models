{
 "cells": [
  {
   "cell_type": "markdown",
   "id": "8bbac9e8-7bc9-4e62-8722-ff44b4205a24",
   "metadata": {
    "jp-MarkdownHeadingCollapsed": true
   },
   "source": [
    "# Train a Neural Network for Classification"
   ]
  },
  {
   "cell_type": "code",
   "execution_count": 6,
   "id": "67279ca6-a0f3-4b45-a270-ec36677046c2",
   "metadata": {},
   "outputs": [
    {
     "name": "stdout",
     "output_type": "stream",
     "text": [
      "Epoch 0, Loss: 0.6441\n",
      "Epoch 100, Loss: 0.2789\n",
      "Epoch 200, Loss: 0.2354\n",
      "Epoch 300, Loss: 0.2142\n",
      "Epoch 400, Loss: 0.1846\n",
      "Model Accuracy: 76.92%\n"
     ]
    }
   ],
   "source": [
    "import pandas as pd\n",
    "import torch\n",
    "import torch.nn as nn\n",
    "import torch.optim as optim\n",
    "from sklearn.model_selection import train_test_split\n",
    "from sklearn.preprocessing import StandardScaler, LabelEncoder\n",
    "\n",
    "\n",
    "# Load Titanic dataset\n",
    "# df = pd.read_csv(\"train.csv\")\n",
    "url = 'https://raw.githubusercontent.com/plotly/datasets/master/titanic.csv'\n",
    "df = pd.read_csv(url)\n",
    "\n",
    "# Select relevant features\n",
    "features = [\"Pclass\", \"Sex\", \"Age\", \"SibSp\", \"Parch\", \"Fare\"]\n",
    "df = df[features + [\"Survived\"]].dropna()\n",
    "\n",
    "# Convert categorical to numerical\n",
    "df[\"Sex\"] = LabelEncoder().fit_transform(df[\"Sex\"])\n",
    "\n",
    "# Define inputs & outputs\n",
    "X = df[features].values\n",
    "y = df[\"Survived\"].values\n",
    "\n",
    "# Normalize features\n",
    "scaler = StandardScaler()\n",
    "X = scaler.fit_transform(X)\n",
    "\n",
    "# Convert to PyTorch tensors\n",
    "X_train, X_test, y_train, y_test = train_test_split(X, y, test_size=0.2, random_state=42)\n",
    "X_train, X_test = torch.tensor(X_train, dtype=torch.float32), torch.tensor(X_test, dtype=torch.float32)\n",
    "y_train, y_test = torch.tensor(y_train, dtype=torch.float32).view(-1, 1), torch.tensor(y_test, dtype=torch.float32).view(-1, 1)\n",
    "\n",
    "# Define the Neural Network\n",
    "class TitanicNN(nn.Module):\n",
    "    def __init__(self):\n",
    "        super(TitanicNN, self).__init__()\n",
    "        self.fc1 = nn.Linear(6, 10)  # Input: 6 features, Hidden: 10 neurons\n",
    "        self.relu = nn.ReLU()\n",
    "        self.fc2 = nn.Linear(10, 1)  # Output: 1 neuron\n",
    "        self.sigmoid = nn.Sigmoid()  # Sigmoid activation for binary classification\n",
    "\n",
    "    def forward(self, x):\n",
    "        x = self.fc1(x)\n",
    "        x = self.relu(x)\n",
    "        x = self.fc2(x)\n",
    "        x = self.sigmoid(x)  # Ensures output is between 0-1\n",
    "        return x\n",
    "\n",
    "# Define Loss Function & Optimizer\n",
    "model = TitanicNN()\n",
    "criterion = nn.BCELoss()  # Binary Cross-Entropy Loss for classification\n",
    "optimizer = optim.Adam(model.parameters(), lr=0.01)\n",
    "\n",
    "# Train the Model\n",
    "epochs = 500\n",
    "for epoch in range(epochs):\n",
    "    optimizer.zero_grad()\n",
    "    output = model(X_train)\n",
    "    loss = criterion(output, y_train)\n",
    "    loss.backward()\n",
    "    optimizer.step()\n",
    "    \n",
    "    if epoch % 100 == 0:\n",
    "        print(f'Epoch {epoch}, Loss: {loss.item():.4f}')\n",
    "\n",
    "# Evaluate the Model\n",
    "with torch.no_grad():\n",
    "    y_pred = model(X_test)\n",
    "    y_pred = (y_pred > 0.5).float()  # Convert probabilities to 0 or 1\n",
    "    accuracy = (y_pred == y_test).sum().item() / y_test.shape[0]\n",
    "\n",
    "print(f\"Model Accuracy: {accuracy:.2%}\")\n"
   ]
  },
  {
   "cell_type": "markdown",
   "id": "12e0624f-8252-4990-9f6a-d01ed5509576",
   "metadata": {
    "jp-MarkdownHeadingCollapsed": true
   },
   "source": [
    "# Model Training and Evaluation Process"
   ]
  },
  {
   "cell_type": "markdown",
   "id": "29266341-1ac7-4426-8b33-3e64e09f3d9b",
   "metadata": {
    "jp-MarkdownHeadingCollapsed": true
   },
   "source": [
    "**Preprocessing Steps:**\n",
    "\n",
    "* ✔️ Removed missing values.\n",
    "* ✔️ Converted Sex (Male/Female) to 0/1.\n",
    "* ✔️ Normalized numerical features.\n",
    "* ✔️ Split data into train (80%) & test (20%).\n",
    "\n",
    "**Key Components:**\n",
    "\n",
    "* ✔️ `ReLU()` → Helps in feature extraction.\n",
    "* ✔️ `Sigmoid()` → Converts output to probability (0-1).\n",
    "\n",
    "**Loss Function:**\n",
    "\n",
    "* ✅ `BCELoss()` is used instead of `MSE` since it works better for classification.\n",
    "\n",
    "**Training Process:**\n",
    "\n",
    "1.  **Forward Pass (Compute predictions):**\n",
    "    * The model takes the input data and generates predictions.\n",
    "2.  **Compute Loss (Compare predictions with actual values):**\n",
    "    * The `BCELoss` function calculates the difference between the predicted probabilities and the actual target values.\n",
    "3.  **Backpropagation (Update weights):**\n",
    "    * The model adjusts its internal parameters (weights) based on the calculated loss to improve future predictions.\n",
    "\n",
    "**Evaluation Process:**\n",
    "\n",
    "* ✔️ Converts probabilities to 0/1 based on a 0.5 threshold.\n",
    "* ✔️ Compares predictions with actual values.\n",
    "* ✔️ Computes the Accuracy of the model."
   ]
  }
 ],
 "metadata": {
  "kernelspec": {
   "display_name": "Python 3 (ipykernel)",
   "language": "python",
   "name": "python3"
  },
  "language_info": {
   "codemirror_mode": {
    "name": "ipython",
    "version": 3
   },
   "file_extension": ".py",
   "mimetype": "text/x-python",
   "name": "python",
   "nbconvert_exporter": "python",
   "pygments_lexer": "ipython3",
   "version": "3.8.20"
  }
 },
 "nbformat": 4,
 "nbformat_minor": 5
}
